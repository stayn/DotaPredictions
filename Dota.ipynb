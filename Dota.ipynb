{
 "cells": [
  {
   "cell_type": "code",
   "execution_count": 1,
   "metadata": {
    "collapsed": false
   },
   "outputs": [],
   "source": [
    "import pandas as pd\n",
    "import numpy as np\n",
    "import matplotlib.pyplot as plt\n",
    "from sklearn import cross_validation\n",
    "from sklearn.cross_validation import KFold\n",
    "from sklearn.cross_validation import cross_val_score\n",
    "from sklearn.ensemble import GradientBoostingClassifier\n",
    "from sklearn.metrics import roc_auc_score\n",
    "from sklearn.linear_model import LogisticRegression\n",
    "from sklearn.preprocessing import StandardScaler\n",
    "import time\n",
    "import datetime\n",
    "from sklearn import ensemble\n",
    "from sklearn import metrics\n",
    "from sklearn import linear_model\n",
    "%matplotlib inline"
   ]
  },
  {
   "cell_type": "markdown",
   "metadata": {},
   "source": [
    "# Подход 1: Градиентный бустинг \"в лоб\""
   ]
  },
  {
   "cell_type": "code",
   "execution_count": 2,
   "metadata": {
    "collapsed": false
   },
   "outputs": [],
   "source": [
    "features = pd.read_csv('features.csv', index_col='match_id')\n",
    "features_test = pd.read_csv('features_test.csv', index_col='match_id')"
   ]
  },
  {
   "cell_type": "code",
   "execution_count": 18,
   "metadata": {
    "collapsed": false
   },
   "outputs": [
    {
     "data": {
      "text/html": [
       "<div>\n",
       "<table border=\"1\" class=\"dataframe\">\n",
       "  <thead>\n",
       "    <tr style=\"text-align: right;\">\n",
       "      <th></th>\n",
       "      <th>start_time</th>\n",
       "      <th>lobby_type</th>\n",
       "      <th>r1_hero</th>\n",
       "      <th>r1_level</th>\n",
       "      <th>r1_xp</th>\n",
       "      <th>r1_gold</th>\n",
       "      <th>r1_lh</th>\n",
       "      <th>r1_kills</th>\n",
       "      <th>r1_deaths</th>\n",
       "      <th>r1_items</th>\n",
       "      <th>...</th>\n",
       "      <th>radiant_ward_sentry_count</th>\n",
       "      <th>radiant_first_ward_time</th>\n",
       "      <th>dire_bottle_time</th>\n",
       "      <th>dire_courier_time</th>\n",
       "      <th>dire_flying_courier_time</th>\n",
       "      <th>dire_tpscroll_count</th>\n",
       "      <th>dire_boots_count</th>\n",
       "      <th>dire_ward_observer_count</th>\n",
       "      <th>dire_ward_sentry_count</th>\n",
       "      <th>dire_first_ward_time</th>\n",
       "    </tr>\n",
       "    <tr>\n",
       "      <th>match_id</th>\n",
       "      <th></th>\n",
       "      <th></th>\n",
       "      <th></th>\n",
       "      <th></th>\n",
       "      <th></th>\n",
       "      <th></th>\n",
       "      <th></th>\n",
       "      <th></th>\n",
       "      <th></th>\n",
       "      <th></th>\n",
       "      <th></th>\n",
       "      <th></th>\n",
       "      <th></th>\n",
       "      <th></th>\n",
       "      <th></th>\n",
       "      <th></th>\n",
       "      <th></th>\n",
       "      <th></th>\n",
       "      <th></th>\n",
       "      <th></th>\n",
       "      <th></th>\n",
       "    </tr>\n",
       "  </thead>\n",
       "  <tbody>\n",
       "    <tr>\n",
       "      <th>0</th>\n",
       "      <td>1430198770</td>\n",
       "      <td>7</td>\n",
       "      <td>11</td>\n",
       "      <td>5</td>\n",
       "      <td>2098</td>\n",
       "      <td>1489</td>\n",
       "      <td>20</td>\n",
       "      <td>0</td>\n",
       "      <td>0</td>\n",
       "      <td>7</td>\n",
       "      <td>...</td>\n",
       "      <td>0</td>\n",
       "      <td>35</td>\n",
       "      <td>103</td>\n",
       "      <td>-84</td>\n",
       "      <td>221</td>\n",
       "      <td>3</td>\n",
       "      <td>4</td>\n",
       "      <td>2</td>\n",
       "      <td>2</td>\n",
       "      <td>-52</td>\n",
       "    </tr>\n",
       "    <tr>\n",
       "      <th>1</th>\n",
       "      <td>1430220345</td>\n",
       "      <td>0</td>\n",
       "      <td>42</td>\n",
       "      <td>4</td>\n",
       "      <td>1188</td>\n",
       "      <td>1033</td>\n",
       "      <td>9</td>\n",
       "      <td>0</td>\n",
       "      <td>1</td>\n",
       "      <td>12</td>\n",
       "      <td>...</td>\n",
       "      <td>0</td>\n",
       "      <td>-20</td>\n",
       "      <td>149</td>\n",
       "      <td>-84</td>\n",
       "      <td>195</td>\n",
       "      <td>5</td>\n",
       "      <td>4</td>\n",
       "      <td>3</td>\n",
       "      <td>1</td>\n",
       "      <td>-5</td>\n",
       "    </tr>\n",
       "    <tr>\n",
       "      <th>2</th>\n",
       "      <td>1430227081</td>\n",
       "      <td>7</td>\n",
       "      <td>33</td>\n",
       "      <td>4</td>\n",
       "      <td>1319</td>\n",
       "      <td>1270</td>\n",
       "      <td>22</td>\n",
       "      <td>0</td>\n",
       "      <td>0</td>\n",
       "      <td>12</td>\n",
       "      <td>...</td>\n",
       "      <td>1</td>\n",
       "      <td>-39</td>\n",
       "      <td>45</td>\n",
       "      <td>-77</td>\n",
       "      <td>221</td>\n",
       "      <td>3</td>\n",
       "      <td>4</td>\n",
       "      <td>3</td>\n",
       "      <td>1</td>\n",
       "      <td>13</td>\n",
       "    </tr>\n",
       "    <tr>\n",
       "      <th>3</th>\n",
       "      <td>1430263531</td>\n",
       "      <td>1</td>\n",
       "      <td>29</td>\n",
       "      <td>4</td>\n",
       "      <td>1779</td>\n",
       "      <td>1056</td>\n",
       "      <td>14</td>\n",
       "      <td>0</td>\n",
       "      <td>0</td>\n",
       "      <td>5</td>\n",
       "      <td>...</td>\n",
       "      <td>0</td>\n",
       "      <td>-30</td>\n",
       "      <td>124</td>\n",
       "      <td>-80</td>\n",
       "      <td>184</td>\n",
       "      <td>0</td>\n",
       "      <td>4</td>\n",
       "      <td>2</td>\n",
       "      <td>0</td>\n",
       "      <td>27</td>\n",
       "    </tr>\n",
       "    <tr>\n",
       "      <th>4</th>\n",
       "      <td>1430282290</td>\n",
       "      <td>7</td>\n",
       "      <td>13</td>\n",
       "      <td>4</td>\n",
       "      <td>1431</td>\n",
       "      <td>1090</td>\n",
       "      <td>8</td>\n",
       "      <td>1</td>\n",
       "      <td>0</td>\n",
       "      <td>8</td>\n",
       "      <td>...</td>\n",
       "      <td>0</td>\n",
       "      <td>46</td>\n",
       "      <td>182</td>\n",
       "      <td>-80</td>\n",
       "      <td>225</td>\n",
       "      <td>6</td>\n",
       "      <td>3</td>\n",
       "      <td>3</td>\n",
       "      <td>0</td>\n",
       "      <td>-16</td>\n",
       "    </tr>\n",
       "  </tbody>\n",
       "</table>\n",
       "<p>5 rows × 102 columns</p>\n",
       "</div>"
      ],
      "text/plain": [
       "          start_time  lobby_type  r1_hero  r1_level  r1_xp  r1_gold  r1_lh  \\\n",
       "match_id                                                                     \n",
       "0         1430198770           7       11         5   2098     1489     20   \n",
       "1         1430220345           0       42         4   1188     1033      9   \n",
       "2         1430227081           7       33         4   1319     1270     22   \n",
       "3         1430263531           1       29         4   1779     1056     14   \n",
       "4         1430282290           7       13         4   1431     1090      8   \n",
       "\n",
       "          r1_kills  r1_deaths  r1_items          ...           \\\n",
       "match_id                                         ...            \n",
       "0                0          0         7          ...            \n",
       "1                0          1        12          ...            \n",
       "2                0          0        12          ...            \n",
       "3                0          0         5          ...            \n",
       "4                1          0         8          ...            \n",
       "\n",
       "          radiant_ward_sentry_count  radiant_first_ward_time  \\\n",
       "match_id                                                       \n",
       "0                                 0                       35   \n",
       "1                                 0                      -20   \n",
       "2                                 1                      -39   \n",
       "3                                 0                      -30   \n",
       "4                                 0                       46   \n",
       "\n",
       "          dire_bottle_time  dire_courier_time  dire_flying_courier_time  \\\n",
       "match_id                                                                  \n",
       "0                      103                -84                       221   \n",
       "1                      149                -84                       195   \n",
       "2                       45                -77                       221   \n",
       "3                      124                -80                       184   \n",
       "4                      182                -80                       225   \n",
       "\n",
       "          dire_tpscroll_count  dire_boots_count  dire_ward_observer_count  \\\n",
       "match_id                                                                    \n",
       "0                           3                 4                         2   \n",
       "1                           5                 4                         3   \n",
       "2                           3                 4                         3   \n",
       "3                           0                 4                         2   \n",
       "4                           6                 3                         3   \n",
       "\n",
       "          dire_ward_sentry_count  dire_first_ward_time  \n",
       "match_id                                                \n",
       "0                              2                   -52  \n",
       "1                              1                    -5  \n",
       "2                              1                    13  \n",
       "3                              0                    27  \n",
       "4                              0                   -16  \n",
       "\n",
       "[5 rows x 102 columns]"
      ]
     },
     "execution_count": 18,
     "metadata": {},
     "output_type": "execute_result"
    }
   ],
   "source": [
    "# Drop features with dependencies on result of game\n",
    "x_train = features.drop(['duration', 'radiant_win', 'tower_status_radiant', 'tower_status_dire', \n",
    "                         'barracks_status_radiant', 'barracks_status_dire'], axis = 1)\n",
    "x_test = features_test\n",
    "x_train.head()"
   ]
  },
  {
   "cell_type": "code",
   "execution_count": 19,
   "metadata": {
    "collapsed": false
   },
   "outputs": [
    {
     "name": "stdout",
     "output_type": "stream",
     "text": [
      "Empty observations in train dataset:\n",
      "['first_blood_time', 'first_blood_team', 'first_blood_player1', 'first_blood_player2', 'radiant_bottle_time', 'radiant_courier_time', 'radiant_flying_courier_time', 'radiant_first_ward_time', 'dire_bottle_time', 'dire_courier_time', 'dire_flying_courier_time', 'dire_first_ward_time']\n"
     ]
    }
   ],
   "source": [
    "empties = (x_train.count() != x_train.shape[0])\n",
    "missing = list(x_train.loc[:,empties].columns.values)\n",
    "print ('Empty observations in train dataset:')\n",
    "print (missing)"
   ]
  },
  {
   "cell_type": "code",
   "execution_count": 20,
   "metadata": {
    "collapsed": true
   },
   "outputs": [],
   "source": [
    "# Fill missing values with 0\n",
    "x_train = x_train.fillna(0)\n",
    "x_test = x_test.fillna(0)"
   ]
  },
  {
   "cell_type": "code",
   "execution_count": 21,
   "metadata": {
    "collapsed": false
   },
   "outputs": [],
   "source": [
    "# Target\n",
    "y = features[['radiant_win']]\n",
    "y = y.fillna(0)"
   ]
  },
  {
   "cell_type": "code",
   "execution_count": 22,
   "metadata": {
    "collapsed": false
   },
   "outputs": [
    {
     "name": "stdout",
     "output_type": "stream",
     "text": [
      "Number of estimators: 10, mean score: 0.664850693272, total time: 0:01:10.832713\n",
      "Number of estimators: 20, mean score: 0.682461881041, total time: 0:02:18.391240\n",
      "Number of estimators: 30, mean score: 0.690006467861, total time: 0:03:23.684407\n",
      "Number of estimators: 40, mean score: 0.694038721334, total time: 0:04:34.859514\n",
      "Number of estimators: 50, mean score: 0.697494359888, total time: 0:06:00.854270\n",
      "Number of estimators: 60, mean score: 0.700119313555, total time: 0:05:56.051582\n"
     ]
    }
   ],
   "source": [
    "# Cross Validation\n",
    "kf = KFold(x_train.shape[0], n_folds = 5, random_state = 42, shuffle = True)\n",
    "\n",
    "n_estimators = np.arange(10, 70, 10)\n",
    "\n",
    "for n in n_estimators:\n",
    "    start_time = datetime.datetime.now()\n",
    "    clf = GradientBoostingClassifier(n_estimators = n)\n",
    "    scores = cross_val_score (clf, x_train, np.ravel(y), cv = kf, scoring = 'roc_auc')\n",
    "    end_time = datetime.datetime.now()\n",
    "    total_time = end_time - start_time\n",
    "    print('Number of estimators: %s, mean score: %s, total time: %s' % (n, scores.mean(), total_time))"
   ]
  },
  {
   "cell_type": "markdown",
   "metadata": {},
   "source": [
    "# Отчет\n",
    "\n",
    "### 1. Какие признаки имеют пропуски среди своих значений? Что могут означать пропуски в этих признаках? \n",
    "- first_blood_time\n",
    "- first_blood_team\n",
    "- first_blood_player1\n",
    "- first_blood_player2\n",
    "- radiant_bottle_time\n",
    "- radiant_courier_time\n",
    "- radiant_flying_courier_time\n",
    "- radiant_first_ward_time\n",
    "- dire_bottle_time\n",
    "- dire_courier_time\n",
    "- dire_flying_courier_time\n",
    "- dire_first_ward_time\n",
    " \n",
    " \n",
    "Так как мы имеем дело с данными на 5-ю минуту игры, то причина пропусков в данных заключается в том, что некоторые события могли не наступить в первые 5 минут игры. \n",
    " \n",
    "Например, пропуск в признаке `first_blood_player2` означает, что второй игрок не получил \"первой крови\" за первые 5 минут игры. Пропуск в признаке `radiant_courier_time` означает, что за первые 5 игровых минут команда не приобрела предмет \"courier\".\n",
    " \n",
    "### 2. Как называется столбец, содержащий целевую переменную?\n",
    "radiant_win\n",
    "\n",
    "### 3. Как долго проводилась кросс-валидация для градиентного бустинга с 30 деревьями? Какое качество при этом получилось? \n",
    "\n",
    "Время: 0:02:56.138297\n",
    "\n",
    "Качество: 0.690006467861\n",
    "\n",
    "### 4. Имеет ли смысл использовать больше 30 деревьев в градиентном бустинге? Что можно сделать, чтобы ускорить его обучение при увеличении количества деревьев?\n",
    "\n",
    "При увеличении деревьев можно заметить рост качества, но довольно медленный (0.69 при 30 деревьях vs 0.7 при 60 деревьях).\n",
    "\n",
    "Один из способов ускорения — уменьшение размерности выборки. \n"
   ]
  },
  {
   "cell_type": "markdown",
   "metadata": {
    "collapsed": true
   },
   "source": [
    "# Подход 2: Логистическая регрессия"
   ]
  },
  {
   "cell_type": "code",
   "execution_count": 23,
   "metadata": {
    "collapsed": false
   },
   "outputs": [],
   "source": [
    "# Some preprocessing\n",
    "scaler = StandardScaler()\n",
    "x_train_scaled = scaler.fit_transform(x_train)\n",
    "x_test_scaled = scaler.transform(x_test)"
   ]
  },
  {
   "cell_type": "code",
   "execution_count": 24,
   "metadata": {
    "collapsed": false
   },
   "outputs": [
    {
     "name": "stdout",
     "output_type": "stream",
     "text": [
      "C: 1e-06, mean score: 0.68818505344, total time: 0:00:02.876036\n",
      "C: 1e-05, mean score: 0.695161681227, total time: 0:00:03.473944\n",
      "C: 0.0001, mean score: 0.711357748203, total time: 0:00:05.478690\n",
      "C: 0.001, mean score: 0.71636353888, total time: 0:00:09.645762\n",
      "C: 0.01, mean score: 0.716550270785, total time: 0:13:27.998685\n",
      "C: 0.1, mean score: 0.716527152902, total time: 0:00:14.280656\n",
      "C: 1, mean score: 0.716522605658, total time: 0:00:15.834283\n",
      "C: 10, mean score: 0.716522287837, total time: 0:00:17.045146\n",
      "C: 100, mean score: 0.716522295257, total time: 0:00:17.097881\n",
      "C: 1000, mean score: 0.716522322797, total time: 0:00:15.779067\n"
     ]
    }
   ],
   "source": [
    "# Cross Validation\n",
    "kf = KFold(x_train.shape[0], n_folds = 5, random_state = 42, shuffle = True)\n",
    "\n",
    "n_estimators = [1e-6, 1e-5, 1e-4, 1e-3, 1e-2, 1e-1, 1, 10, 100, 1000]\n",
    "\n",
    "for n in n_estimators:\n",
    "    start_time = datetime.datetime.now()\n",
    "    clf = LogisticRegression(penalty = 'l2', C = n)\n",
    "    scores = cross_val_score(clf, x_train_scaled, np.ravel(y), cv = kf, scoring = 'roc_auc')\n",
    "    end_time = datetime.datetime.now()\n",
    "    total_time = end_time - start_time\n",
    "    print('C: %s, mean score: %s, total time: %s' % (n, scores.mean(), total_time))"
   ]
  },
  {
   "cell_type": "code",
   "execution_count": 25,
   "metadata": {
    "collapsed": false
   },
   "outputs": [],
   "source": [
    "# Removing categorical variables\n",
    "x_train = x_train.drop(['lobby_type', 'r1_hero', 'r2_hero', 'r3_hero', 'r4_hero', 'r5_hero', 'd1_hero', 'd2_hero', 'd3_hero', 'd4_hero', 'd5_hero'], axis = 1)\n",
    "x_train_scaled = scaler.fit_transform(x_train)\n",
    "\n",
    "x_test = x_test.drop(['lobby_type', 'r1_hero', 'r2_hero', 'r3_hero', 'r4_hero', 'r5_hero', 'd1_hero', 'd2_hero', 'd3_hero', 'd4_hero', 'd5_hero'], axis = 1)\n",
    "x_test_scaled = scaler.fit_transform(x_test)"
   ]
  },
  {
   "cell_type": "code",
   "execution_count": 26,
   "metadata": {
    "collapsed": false
   },
   "outputs": [
    {
     "name": "stdout",
     "output_type": "stream",
     "text": [
      "C: 1e-06, mean score: 0.688141798672, total time: 0:00:02.690650\n",
      "C: 1e-05, mean score: 0.695100187107, total time: 0:00:02.937577\n",
      "C: 0.0001, mean score: 0.711339145863, total time: 0:00:04.784011\n",
      "C: 0.001, mean score: 0.716375799908, total time: 0:00:09.559600\n",
      "C: 0.01, mean score: 0.716559386445, total time: 0:00:11.615022\n",
      "C: 0.1, mean score: 0.716534239287, total time: 0:00:12.597776\n",
      "C: 1, mean score: 0.71653036557, total time: 0:00:13.781546\n",
      "C: 10, mean score: 0.716529971503, total time: 0:00:15.230959\n",
      "C: 100, mean score: 0.716529889947, total time: 0:00:13.778177\n",
      "C: 1000, mean score: 0.716529888885, total time: 0:00:15.711253\n"
     ]
    }
   ],
   "source": [
    "# Cross Validation after removing categorical variables\n",
    "kf = KFold(x_train.shape[0], n_folds = 5, random_state = 42, shuffle = True)\n",
    "\n",
    "n_estimators = [1e-6, 1e-5, 1e-4, 1e-3, 1e-2, 1e-1, 1, 10, 100, 1000]\n",
    "\n",
    "for n in n_estimators:\n",
    "    start_time = datetime.datetime.now()\n",
    "    clf = LogisticRegression(penalty = 'l2', C = n)\n",
    "    scores = cross_val_score(clf, x_train_scaled, np.ravel(y), cv = kf, scoring = 'roc_auc')\n",
    "    end_time = datetime.datetime.now()\n",
    "    total_time = end_time - start_time\n",
    "    print('C: %s, mean score: %s, total time: %s' % (n, scores.mean(), total_time))"
   ]
  },
  {
   "cell_type": "code",
   "execution_count": 10,
   "metadata": {
    "collapsed": false,
    "scrolled": true
   },
   "outputs": [
    {
     "name": "stdout",
     "output_type": "stream",
     "text": [
      "('Unique heroes:', 108)\n"
     ]
    }
   ],
   "source": [
    "heroes = features[['r1_hero','r2_hero', 'r3_hero', 'r4_hero', 'r5_hero',\n",
    "                      'd1_hero','d2_hero', 'd3_hero', 'd4_hero', 'd5_hero']]\n",
    "print('Unique heroes:', np.shape(np.unique(heroes))[0])"
   ]
  },
  {
   "cell_type": "code",
   "execution_count": 11,
   "metadata": {
    "collapsed": false
   },
   "outputs": [],
   "source": [
    "n_heroes = 112\n",
    "x_pick_train = np.zeros((x_train.shape[0], n_heroes))\n",
    "for i, match_id in enumerate(x_train.index):\n",
    "    for p in range(1,5):\n",
    "        x_pick_train[i, features.ix[match_id, 'r%d_hero' % p] -1] = 1\n",
    "        x_pick_train[i, features.ix[match_id, 'd%d_hero' % p] -1] = -1\n",
    "        \n",
    "x_pick_test = np.zeros((x_test.shape[0], n_heroes))\n",
    "for i, match_id in enumerate(x_test.index):\n",
    "    for p in range(1,5):\n",
    "        x_pick_test[i, features_test.ix[match_id, 'r%d_hero' % p] -1] = 1\n",
    "        x_pick_test[i, features_test.ix[match_id, 'd%d_hero' % p] -1] = -1"
   ]
  },
  {
   "cell_type": "code",
   "execution_count": 32,
   "metadata": {
    "collapsed": false
   },
   "outputs": [
    {
     "name": "stdout",
     "output_type": "stream",
     "text": [
      "(97230, 203)\n",
      "(17177, 203)\n"
     ]
    }
   ],
   "source": [
    "x_train_scaled_prep = pd.DataFrame(data = x_train_scaled, index = range(np.shape(x_train_scaled)[0]))\n",
    "x_pick_train_prep = pd.DataFrame(data = x_pick_train, index = range(np.shape(x_pick_train)[0]))\n",
    "x_train = pd.concat([x_train_scaled_prep, x_pick_train_prep], axis = 1)\n",
    "print(np.shape(x_train))\n",
    "\n",
    "x_test_scaled_prep = pd.DataFrame(data = x_test_scaled, index = range(np.shape(x_test_scaled)[0]))\n",
    "x_pick_test_prep = pd.DataFrame(data = x_pick_test, index = range(np.shape(x_pick_test)[0]))\n",
    "x_test = pd.concat([x_test_scaled_prep, x_pick_test_prep], axis = 1)\n",
    "print(np.shape(x_test))"
   ]
  },
  {
   "cell_type": "code",
   "execution_count": 13,
   "metadata": {
    "collapsed": false,
    "scrolled": true
   },
   "outputs": [
    {
     "name": "stdout",
     "output_type": "stream",
     "text": [
      "C: 1e-06, mean score: 0.689712653489, total time: 0:00:04.235884\n",
      "C: 1e-05, mean score: 0.697812024991, total time: 0:00:04.060698\n",
      "C: 0.0001, mean score: 0.720905036821, total time: 0:00:05.742972\n",
      "C: 0.001, mean score: 0.738922161992, total time: 0:00:11.207817\n",
      "C: 0.01, mean score: 0.74378083121, total time: 0:00:19.328975\n",
      "C: 0.1, mean score: 0.743922124828, total time: 0:00:27.519533\n",
      "C: 1, mean score: 0.743894337522, total time: 0:00:31.759232\n",
      "C: 10, mean score: 0.743891459843, total time: 0:00:32.186258\n",
      "C: 100, mean score: 0.743891137733, total time: 0:00:33.363867\n",
      "C: 1000, mean score: 0.743891200206, total time: 0:00:34.600890\n"
     ]
    }
   ],
   "source": [
    "# Cross Validation after adding a pack of words\n",
    "kf = KFold(x_train.shape[0], n_folds = 5, random_state = 42, shuffle = True)\n",
    "\n",
    "n_estimators = [1e-6, 1e-5, 1e-4, 1e-3, 1e-2, 1e-1, 1, 10, 100, 1000]\n",
    "\n",
    "for n in n_estimators:\n",
    "    start_time = datetime.datetime.now()\n",
    "    clf = LogisticRegression(penalty = 'l2', C = n)\n",
    "    scores = cross_val_score(clf, x_train, np.ravel(y), cv = kf, scoring = 'roc_auc')\n",
    "    end_time = datetime.datetime.now()\n",
    "    total_time = end_time - start_time\n",
    "    print('C: %s, mean score: %s, total time: %s' % (n, scores.mean(), total_time))"
   ]
  },
  {
   "cell_type": "code",
   "execution_count": 33,
   "metadata": {
    "collapsed": false
   },
   "outputs": [],
   "source": [
    "clf = LogisticRegression(penalty = 'l2', C = 0.01)\n",
    "clf.fit(x_train, np.ravel(y))\n",
    "\n",
    "predictions = clf.predict_proba(x_test)[:, 1]"
   ]
  },
  {
   "cell_type": "code",
   "execution_count": 34,
   "metadata": {
    "collapsed": false
   },
   "outputs": [
    {
     "name": "stdout",
     "output_type": "stream",
     "text": [
      "('Min value: ', 0.0050398029789070278)\n",
      "('Max value: ', 0.99629459142459376)\n"
     ]
    }
   ],
   "source": [
    "print('Min value: ', predictions.min())\n",
    "print('Max value: ', predictions.max())"
   ]
  },
  {
   "cell_type": "markdown",
   "metadata": {},
   "source": [
    "# Отчет\n",
    "### 1. Какое качество получилось у логистической регрессии над всеми исходными признаками? Как оно соотносится с качеством градиентного бустинга? Чем вы можете объяснить эту разницу? Быстрее ли работает логистическая регрессия по сравнению с градиентным бустингом?\n",
    "\n",
    "Качество: 0.717 при $(С = 0.01)$, что превышает качество градиентного бустинга чуть больше чемна 0.2. Вероятно, это связано с недообучением градиентного бустинга. Логистическая регрессия работает гораздо быстрее градиентного бустинга (~13.5 секунд vs ~3.5 минуты соответственно).\n",
    "### 2. Как влияет на качество логистической регрессии удаление категориальных признаков (укажите новое значение метрики качества)? Чем вы можете объяснить это изменение?\n",
    "\n",
    "Качество незначительно увеличивается (десятитысячные доли: 0.716550 vs 0.716559). Вероятно, это связано с тем, что при большем количестве признаков модель переобучается.  \n",
    "\n",
    "### 3. Сколько различных идентификаторов героев существует в данной игре?\n",
    "\n",
    "108\n",
    "### 4. Какое получилось качество при добавлении \"мешка слов\" по героям? Улучшилось ли оно по сравнению с предыдущим вариантом? Чем вы можете это объяснить?\n",
    "\n",
    "\n",
    "Качество улучшилось. При $C=0.01$ было 0.716559, стало 0.74378. Улучшение качества связано с добавлением новых признаков. \n",
    "### 5. Какое минимальное и максимальное значение прогноза на тестовой выборке получилось у лучшего из алгоритмов?\n",
    "\n",
    "Минимальное значение — 0.005\n",
    "\n",
    "Максимальное значение – 0.996\n"
   ]
  }
 ],
 "metadata": {
  "kernelspec": {
   "display_name": "Python 2",
   "language": "python",
   "name": "python2"
  },
  "language_info": {
   "codemirror_mode": {
    "name": "ipython",
    "version": 2
   },
   "file_extension": ".py",
   "mimetype": "text/x-python",
   "name": "python",
   "nbconvert_exporter": "python",
   "pygments_lexer": "ipython2",
   "version": "2.7.11"
  }
 },
 "nbformat": 4,
 "nbformat_minor": 0
}
